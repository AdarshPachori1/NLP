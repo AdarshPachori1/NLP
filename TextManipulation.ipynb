{
 "cells": [
  {
   "cell_type": "markdown",
   "metadata": {},
   "source": [
    "## Working with PDF Files\n",
    "#### Printing an F-string that displays `NLP stands for Natural Language Processing` using the variables provided"
   ]
  },
  {
   "cell_type": "code",
   "execution_count": 1,
   "metadata": {},
   "outputs": [
    {
     "name": "stdout",
     "output_type": "stream",
     "text": [
      "NLP stands for Natural Language Processing\n"
     ]
    }
   ],
   "source": [
    "abbr = 'NLP'\n",
    "full_text = 'Natural Language Processing'\n",
    "\n",
    "print(f\"{abbr} stands for {full_text}\")"
   ]
  },
  {
   "cell_type": "markdown",
   "metadata": {},
   "source": [
    "#### Creating a file in the current working directory called `contacts.txt` by running the cell below"
   ]
  },
  {
   "cell_type": "code",
   "execution_count": 4,
   "metadata": {},
   "outputs": [
    {
     "name": "stdout",
     "output_type": "stream",
     "text": [
      "Writing contacts.txt\n"
     ]
    }
   ],
   "source": [
    "%%writefile contacts.txt\n",
    "First_Name Last_Name, Title, Extension, Email"
   ]
  },
  {
   "cell_type": "markdown",
   "metadata": {},
   "source": [
    "#### Opening the file and use .read() to save the contents of the file to a string called `fields`"
   ]
  },
  {
   "cell_type": "code",
   "execution_count": 2,
   "metadata": {},
   "outputs": [
    {
     "data": {
      "text/plain": [
       "'First_Name Last_Name, Title, Extension, Email\\nAUTHORS:\\n \\nAmy Baker, Finance Chair, x345, abaker@ourcompany.com\\n \\nChris Donaldson, Accounting Dir., x621, cdonaldson@ourcompany.com\\n \\nErin Freeman, Sr. VP, x879, efreeman@ourcompany.com\\n \\n \\nAmy Baker, Finance Chair, x345, abaker@ourcompany.com\\n \\nChris Donaldson, Accounting Dir., x621, cdonaldson@ourcompany.com\\n \\nErin Freeman, Sr. VP, x879, efreeman@ourcompany.com\\n \\n'"
      ]
     },
     "execution_count": 2,
     "metadata": {},
     "output_type": "execute_result"
    }
   ],
   "source": [
    "contacts = open(\"contacts.txt\")\n",
    "fields = contacts.read()\n",
    "contacts.close()\n",
    "\n",
    "fields"
   ]
  },
  {
   "cell_type": "markdown",
   "metadata": {},
   "source": [
    "#### Extract the text of page 2 of `Business_Proposal.pdf` using PyPDF2"
   ]
  },
  {
   "cell_type": "code",
   "execution_count": 3,
   "metadata": {},
   "outputs": [
    {
     "name": "stdout",
     "output_type": "stream",
     "text": [
      "AUTHORS:\n",
      " \n",
      "Amy Baker, Finance Chair, x345, abaker@ourcompany.com\n",
      " \n",
      "Chris Donaldson, Accounting Dir., x621, cdonaldson@ourcompany.com\n",
      " \n",
      "Erin Freeman, Sr. VP, x879, efreeman@ourcompany.com\n",
      " \n",
      "\n"
     ]
    }
   ],
   "source": [
    "import PyPDF2\n",
    "\n",
    "business_proposal = open(\"Business_Proposal.pdf\", \"rb\")\n",
    "\n",
    "file_reader = PyPDF2.PdfFileReader(business_proposal)\n",
    "\n",
    "page_two_text = file_reader.getPage(1).extractText()\n",
    "\n",
    "business_proposal.close()\n",
    "\n",
    "print(page_two_text)"
   ]
  },
  {
   "cell_type": "markdown",
   "metadata": {},
   "source": [
    "#### Adding the text of page 2 from above to `contacts.txt`"
   ]
  },
  {
   "cell_type": "code",
   "execution_count": 4,
   "metadata": {},
   "outputs": [],
   "source": [
    "contacts = open(\"contacts.txt\", \"a\")\n",
    "contacts.write(page_two_text)\n",
    "contacts.close()"
   ]
  },
  {
   "cell_type": "markdown",
   "metadata": {},
   "source": [
    "#### Removing the word \"AUTHORS:\""
   ]
  },
  {
   "cell_type": "code",
   "execution_count": 21,
   "metadata": {},
   "outputs": [],
   "source": [
    "contacts = open(\"contacts.txt\", \"a\")\n",
    "contacts.write(\"\\n\".join(page_two_text.split(\"\\n\")[1:]))\n",
    "contacts.close()"
   ]
  },
  {
   "cell_type": "markdown",
   "metadata": {},
   "source": [
    "#### Extracting any email addresses that were contained in page 2 of the file `Business_Proposal.pdf`"
   ]
  },
  {
   "cell_type": "code",
   "execution_count": 8,
   "metadata": {},
   "outputs": [
    {
     "data": {
      "text/plain": [
       "['abaker@ourcompany', 'cdonaldson@ourcompany', 'efreeman@ourcompany']"
      ]
     },
     "execution_count": 8,
     "metadata": {},
     "output_type": "execute_result"
    }
   ],
   "source": [
    "import re\n",
    "\n",
    "pattern = r\"[\\w]+@[\\w]+\"\n",
    "\n",
    "re.findall(pattern, page_two_text)"
   ]
  }
 ],
 "metadata": {
  "kernelspec": {
   "display_name": "Python 3",
   "language": "python",
   "name": "python3"
  },
  "language_info": {
   "codemirror_mode": {
    "name": "ipython",
    "version": 3
   },
   "file_extension": ".py",
   "mimetype": "text/x-python",
   "name": "python",
   "nbconvert_exporter": "python",
   "pygments_lexer": "ipython3",
   "version": "3.7.6"
  }
 },
 "nbformat": 4,
 "nbformat_minor": 4
}
